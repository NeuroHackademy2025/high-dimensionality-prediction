{
 "cells": [
  {
   "cell_type": "code",
   "execution_count": 1,
   "id": "6c66d9c8-1076-4640-8cca-d278e496e482",
   "metadata": {},
   "outputs": [],
   "source": [
    "import os\n",
    "import csv\n",
    "import pandas as pd\n",
    "\n",
    "#This script is for loading in various CSV files\n",
    "\n",
    "#inputDir = '/home/jovyan/GitRepos/high-dimensionality-prediction/DataCSVs/'\n",
    "inputDir = '/home/jovyan/projects/high-dimensionality-prediction/DataCSVs/'\n",
    "outputFile = '/home/jovyan/projects/high-dimensionality-prediction/DataCSVs/AllParticipantVoxels.csv'\n",
    "\n",
    "columnNames = ['SubID','Session', 'Voxels', 'Volume_mm3', 'Percent_of_Total']\n",
    "particFrame = pd.DataFrame(columns=columnNames)"
   ]
  },
  {
   "cell_type": "code",
   "execution_count": 2,
   "id": "69276f9e-ec76-450e-aff2-7b09b19c18a8",
   "metadata": {},
   "outputs": [
    {
     "name": "stdout",
     "output_type": "stream",
     "text": [
      "                  Region      SubID Session    Voxels  Volume_mm3  \\\n",
      "0                Unknown  OAS2_0044     MR3  15917759  15917759.0   \n",
      "1  Cerebral-White-Matter  OAS2_0044     MR3    283262    283262.0   \n",
      "2      Cerebellum-Cortex  OAS2_0044     MR3     82640     82640.0   \n",
      "3      Lateral-Ventricle  OAS2_0044     MR3     75379     75379.0   \n",
      "4        superiorfrontal  OAS2_0044     MR3     32681     32681.0   \n",
      "\n",
      "   Percent_of_Total  \n",
      "0         94.877237  \n",
      "1          1.688373  \n",
      "2          0.492573  \n",
      "3          0.449294  \n",
      "4          0.194794  \n"
     ]
    },
    {
     "name": "stderr",
     "output_type": "stream",
     "text": [
      "/tmp/ipykernel_317/118827157.py:15: FutureWarning: The behavior of DataFrame concatenation with empty or all-NA entries is deprecated. In a future version, this will no longer exclude empty or all-NA columns when determining the result dtypes. To retain the old behavior, exclude the relevant entries before the concat operation.\n",
      "  particFrame = pd.concat(dataframes)\n"
     ]
    }
   ],
   "source": [
    "for file in os.listdir(inputDir):\n",
    "    #If the file doesn't start with OAS2, skip the file\n",
    "    if not file.startswith('OAS2'):\n",
    "        continue\n",
    "    #Participant ID is based off of the first 9 characters of the filename\n",
    "    particID = file[:9]\n",
    "    #Session is based off of the next 4\n",
    "    particSession = file[10:13]\n",
    "\n",
    "    curFrame = pd.read_csv(inputDir + file, index_col=0)\n",
    "    #curFrame = curFrame.rename(columns={curFrame.columns[0]: \"Region\"})\n",
    "    curFrame['SubID'] = particID\n",
    "    curFrame['Session'] = particSession\n",
    "    dataframes = [particFrame, curFrame]\n",
    "    particFrame = pd.concat(dataframes)\n",
    "    \n",
    "\n",
    "#particFrame = particFrame.rename(columns={particFrame.columns[0]: \"Region\"})\n",
    "particFrame.index.name = 'Region'\n",
    "particFrame.reset_index(inplace=True)\n",
    "\n",
    "print(particFrame.head())"
   ]
  },
  {
   "cell_type": "code",
   "execution_count": 3,
   "id": "856bebee-476a-4d96-8049-bff8714ca7cf",
   "metadata": {},
   "outputs": [],
   "source": [
    "particFrame.to_csv(outputFile,mode='w',index=False)"
   ]
  },
  {
   "cell_type": "code",
   "execution_count": null,
   "id": "30104e58-8a03-48a9-b6f7-5ae1054c34ef",
   "metadata": {},
   "outputs": [],
   "source": []
  },
  {
   "cell_type": "code",
   "execution_count": null,
   "id": "199c1970-400e-4e9a-9043-56529428aaff",
   "metadata": {},
   "outputs": [],
   "source": []
  }
 ],
 "metadata": {
  "kernelspec": {
   "display_name": "Python 3 (ipykernel)",
   "language": "python",
   "name": "python3"
  },
  "language_info": {
   "codemirror_mode": {
    "name": "ipython",
    "version": 3
   },
   "file_extension": ".py",
   "mimetype": "text/x-python",
   "name": "python",
   "nbconvert_exporter": "python",
   "pygments_lexer": "ipython3",
   "version": "3.11.11"
  }
 },
 "nbformat": 4,
 "nbformat_minor": 5
}
